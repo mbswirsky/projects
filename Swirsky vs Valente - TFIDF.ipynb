{
 "cells": [
  {
   "cell_type": "markdown",
   "metadata": {},
   "source": [
    "# Text Analysis\n",
    "Analyzes texts from seemingly-similar authors, Rachel Swirsky, Cat Valente, and Carmen Maria Machado, on a sentence-by-sentence basis, to see if their writing styles can be predicted."
   ]
  },
  {
   "cell_type": "code",
   "execution_count": 103,
   "metadata": {
    "collapsed": true
   },
   "outputs": [],
   "source": [
    "import numpy as np\n",
    "import pandas as pd\n",
    "import spacy\n",
    "import re\n",
    "from urllib.request import Request, urlopen\n",
    "from bs4 import BeautifulSoup\n",
    "from time import time\n",
    "from IPython.display import display\n",
    "import matplotlib.pyplot as plt\n",
    "import seaborn as sns\n",
    "%matplotlib inline\n",
    "start_time = time()"
   ]
  },
  {
   "cell_type": "markdown",
   "metadata": {},
   "source": [
    "## Scraping Data\n",
    "\n",
    "### Requesting and parsing html\n",
    "* Using urllib and BeautifulSoup\n",
    "* The program first pulls stories directly from their published websites"
   ]
  },
  {
   "cell_type": "code",
   "execution_count": 104,
   "metadata": {
    "collapsed": true
   },
   "outputs": [],
   "source": [
    "# Pull stories from their websites\n",
    "\n",
    "header={'user-agent': 'Mozilla/5.0 (Windows NT 10.0; Win64; x64) \\\n",
    "        AppleWebKit/537.36 (KHTML, like Gecko) Chrome/66.0.3359.139 Safari/537.36'}\n",
    "\n",
    "def get_raw(url, no_strong=False, no_b=False):\n",
    "    req=Request(url, headers=header)\n",
    "    html = urlopen(req).read().decode('utf8')\n",
    "    soup = BeautifulSoup(html, 'lxml')\n",
    "    if no_strong == True:\n",
    "        for strong in soup('strong'):\n",
    "            strong.decompose()\n",
    "    if no_b == True:\n",
    "        for b in soup('b'):\n",
    "            b.decompose()\n",
    "    return soup.get_text()\n",
    "\n",
    "t0 = time()\n",
    "# Swirsky stories\n",
    "dino_raw = get_raw('https://www.apex-magazine.com/if-you-were-a-dinosaur-my-love/')\n",
    "\n",
    "eros_raw = get_raw('https://www.tor.com/2009/03/03/eros-philia-agape/')\n",
    "\n",
    "still_raw = get_raw('http://uncannymagazine.com/article/love-is-never-still/', no_b=True)\n",
    "\n",
    "# Valente stories\n",
    "fade_raw = get_raw('http://clarkesworldmagazine.com/valente_08_12/')\n",
    "\n",
    "silent1_raw = get_raw('http://clarkesworldmagazine.com/valente_10_11/', no_strong=True)\n",
    "\n",
    "silent2_raw = get_raw('http://clarkesworldmagazine.com/valente_11_11/', no_strong=True)\n",
    "\n",
    "silent3_raw = get_raw('http://clarkesworldmagazine.com/valente_12_11/', no_strong=True)\n",
    "\n",
    "lion_raw = get_raw('http://uncannymagazine.com/article/planet-lion/')\n",
    "\n",
    "# Machado stories\n",
    "stitch_raw = get_raw('https://granta.com/The-Husband-Stitch/')\n",
    "\n",
    "follow_raw = get_raw('http://www.lightspeedmagazine.com/fiction/help-follow-sister-land-dead/')\n",
    "\n",
    "descent_raw = get_raw('http://www.nightmare-magazine.com/fiction/descent/')\n",
    "print('Get raw in {:.2f} seconds'.format(time() - t0))"
   ]
  },
  {
   "cell_type": "markdown",
   "metadata": {},
   "source": [
    "### Finding story text in html\n",
    "* Using find() from BeautifulSoup\n",
    "* Identifies story text inside the total site text"
   ]
  },
  {
   "cell_type": "code",
   "execution_count": 106,
   "metadata": {
    "collapsed": true
   },
   "outputs": [],
   "source": [
    "# Select out story text\n",
    "\n",
    "def select_out(raw, start_text, end_text):\n",
    "    start = raw.find(start_text)\n",
    "    end = raw.find(end_text)\n",
    "    return raw[start:end+len(end_text)]\n",
    "\n",
    "dinosaur = select_out(dino_raw, \n",
    "                      'If you were a dinosaur, my', \n",
    "                      ', and the stuttering of my broken heart.'\n",
    "                     )\n",
    "eros = select_out(eros_raw, \n",
    "                  'Lucian packed his possessions before he left.', \n",
    "                  'yet form the thoughts to wonder what will happen next.\\nHe moves on.'\n",
    "                 )\n",
    "still = select_out(still_raw, \n",
    "                  'Through every moment of carving, I want her as one wants a woman. I want', \n",
    "                  'and decay, but it is also the early bloom that opens into winter’s cold. She is love, and she will always be reborn.'\n",
    "                  )\n",
    "fade = select_out(fade_raw, \n",
    "                 'ZOOM IN on a bright-eyed Betty in a crisp green dress,', \n",
    "                 'And over the black, a cheerful fat man giving the thumbs up to Sylvie, grinning:\\n\\nBuy Freedom Brand Film! It\\'s A-OK!'\n",
    "                 )\n",
    "silent1 = select_out(silent1_raw, \n",
    "                    'Inanna was called Queen of Heaven and Earth,', \n",
    "                    'The sun breaks the mountain crests, hard and cold, a shaft of white spilling over the black lake.'\n",
    "                    )\n",
    "silent2 = select_out(silent2_raw, \n",
    "                    'Humanity lived many years and ruled the earth,', \n",
    "                    'The castle windows go dark, one by one.'\n",
    "                    )\n",
    "silent3 = select_out(silent3_raw, \n",
    "                    'Tell me a story about yourself, Elefsis.', \n",
    "                    'we walk up the long path out of the churning, honey-colored sea.'\n",
    "                    )\n",
    "silent = silent1 + '\\n' + silent2 + '\\n' + silent3\n",
    "\n",
    "lion = select_out(lion_raw, \n",
    "                 'Initial Survey Report: Planet 6MQ441 (Bakeneko), Alaraph', \n",
    "                 'Szent Istvan. She longs to hear the first roar of her young.'\n",
    "                 )\n",
    "stitch = select_out(stitch_raw, \n",
    "                   '(If you read this story out loud, please use', \n",
    "                   'backwards off my neck and rolls off the bed, I feel as lonely as I have ever been.'\n",
    "                   )\n",
    "follow = select_out(follow_raw, \n",
    "                   'Help Me Follow My Sister\\ninto the Land of the Dead\\nby Ursula Ruiz', \n",
    "                   's—in a terrifying place where no mortal has any business treading.'\n",
    "                   ) + '\\n' + select_out(follow_raw, \n",
    "                                        'Home\\nThis is the thing about my sister and I:', \n",
    "                                        'Lucille L\\nJun 28, 2015\\nUrsula?'\n",
    "                                        )\n",
    "descent = select_out(descent_raw, \n",
    "                    'We gathered for the last time in October,', \n",
    "                    ', drinks cocked in their hands.\\nI looked down.'\n",
    "                    )"
   ]
  },
  {
   "cell_type": "markdown",
   "metadata": {},
   "source": [
    "## Parsing Text\n",
    "\n",
    "### Cleaning \n",
    "* Cleaning out un-parseable symbols\n",
    "* Using re"
   ]
  },
  {
   "cell_type": "code",
   "execution_count": 108,
   "metadata": {
    "collapsed": true
   },
   "outputs": [],
   "source": [
    "# Utility function for standard text cleaning.\n",
    "def text_cleaner(text):\n",
    "    # Visual inspection identifies a form of punctuation spaCy does not\n",
    "    # recognize: the double dash '--'.  Better get rid of it now!\n",
    "    text = re.sub(r'--',' ',text)\n",
    "    text = re.sub(r'[\\[\\]]', '', text)\n",
    "    text = ' '.join(text.split())\n",
    "    return text"
   ]
  },
  {
   "cell_type": "code",
   "execution_count": 109,
   "metadata": {},
   "outputs": [],
   "source": [
    "# Clean out bad symbols\n",
    "dinosaur = text_cleaner(dinosaur)\n",
    "eros = text_cleaner(eros)\n",
    "fade = text_cleaner(fade)\n",
    "silent = text_cleaner(silent)\n",
    "lion = text_cleaner(lion)\n",
    "still = text_cleaner(still)\n",
    "stitch = text_cleaner(stitch)\n",
    "follow = text_cleaner(follow)\n",
    "descent = text_cleaner(descent)"
   ]
  },
  {
   "cell_type": "markdown",
   "metadata": {},
   "source": [
    "### Parsing documents\n",
    "* Using spaCy\n",
    "* Identifies sentence structure in the stories"
   ]
  },
  {
   "cell_type": "code",
   "execution_count": 110,
   "metadata": {},
   "outputs": [
    {
     "name": "stdout",
     "output_type": "stream",
     "text": [
      "Parsed in 22.06 seconds\n"
     ]
    }
   ],
   "source": [
    "t0 = time()\n",
    "# Parse using spaCy\n",
    "nlp = spacy.load('en')\n",
    "\n",
    "dinosaur_doc = nlp(dinosaur)\n",
    "eros_doc = nlp(eros)\n",
    "fade_doc = nlp(fade)\n",
    "silent_doc = nlp(silent)\n",
    "lion_doc = nlp(lion)\n",
    "still_doc = nlp(still)\n",
    "stitch_doc = nlp(stitch)\n",
    "follow_doc = nlp(follow)\n",
    "descent_doc = nlp(descent)\n",
    "print('Parsed in {:.2f} seconds'.format(time() - t0))"
   ]
  },
  {
   "cell_type": "code",
   "execution_count": 111,
   "metadata": {
    "collapsed": true
   },
   "outputs": [],
   "source": [
    "# print([sent.lemma_ for sent in eros_doc.sents])"
   ]
  },
  {
   "cell_type": "markdown",
   "metadata": {},
   "source": [
    "### Grouping data into sentences\n",
    "* We undo spaCy's tokenization, just keeping the data split into sentences\n",
    "* Creates one table of all the data, organized with one sentence for each line"
   ]
  },
  {
   "cell_type": "code",
   "execution_count": 112,
   "metadata": {
    "collapsed": true
   },
   "outputs": [],
   "source": [
    "#Group into sentences. (Each sentence will be a row in pre-model data.)\n",
    "dinosaur_sents = [[sent.string, \"Swirsky\"] for sent in dinosaur_doc.sents]\n",
    "eros_sents = [[sent.string, \"Swirsky\"] for sent in eros_doc.sents]\n",
    "still_sents = [[sent.string, \"Swirsky\"] for sent in still_doc.sents]\n",
    "fade_sents = [[sent.string, \"Valente\"] for sent in fade_doc.sents]\n",
    "silent_sents = [[sent.string, \"Valente\"] for sent in silent_doc.sents]\n",
    "lion_sents = [[sent.string, \"Valente\"] for sent in lion_doc.sents]\n",
    "stitch_sents = [[sent.string, \"Machado\"] for sent in stitch_doc.sents]\n",
    "follow_sents = [[sent.string, \"Machado\"] for sent in follow_doc.sents]\n",
    "descent_sents = [[sent.string, \"Machado\"] for sent in descent_doc.sents]"
   ]
  },
  {
   "cell_type": "code",
   "execution_count": 147,
   "metadata": {},
   "outputs": [
    {
     "name": "stdout",
     "output_type": "stream",
     "text": [
      "Full Data Set:\n"
     ]
    },
    {
     "data": {
      "text/html": [
       "<div>\n",
       "<style scoped>\n",
       "    .dataframe tbody tr th:only-of-type {\n",
       "        vertical-align: middle;\n",
       "    }\n",
       "\n",
       "    .dataframe tbody tr th {\n",
       "        vertical-align: top;\n",
       "    }\n",
       "\n",
       "    .dataframe thead th {\n",
       "        text-align: right;\n",
       "    }\n",
       "</style>\n",
       "<table border=\"1\" class=\"dataframe\">\n",
       "  <thead>\n",
       "    <tr style=\"text-align: right;\">\n",
       "      <th></th>\n",
       "      <th>count</th>\n",
       "    </tr>\n",
       "  </thead>\n",
       "  <tbody>\n",
       "    <tr>\n",
       "      <th>Valente</th>\n",
       "      <td>2333</td>\n",
       "    </tr>\n",
       "    <tr>\n",
       "      <th>Swirsky</th>\n",
       "      <td>2153</td>\n",
       "    </tr>\n",
       "    <tr>\n",
       "      <th>Machado</th>\n",
       "      <td>1336</td>\n",
       "    </tr>\n",
       "  </tbody>\n",
       "</table>\n",
       "</div>"
      ],
      "text/plain": [
       "         count\n",
       "Valente   2333\n",
       "Swirsky   2153\n",
       "Machado   1336"
      ]
     },
     "metadata": {},
     "output_type": "display_data"
    },
    {
     "name": "stdout",
     "output_type": "stream",
     "text": [
      "5822 total sentences\n"
     ]
    }
   ],
   "source": [
    "# Combine the sentences from the stories into one data frame.\n",
    "sentences = pd.DataFrame(dinosaur_sents + eros_sents + still_sents + fade_sents + silent_sents + lion_sents + stitch_sents + follow_sents + descent_sents)\n",
    "sentences.columns = ['text', 'author']\n",
    "print('Full Data Set:')\n",
    "display(sentences.author.value_counts().to_frame(name='count'))\n",
    "print('{} total sentences'.format(len(sentences.author)))"
   ]
  },
  {
   "cell_type": "markdown",
   "metadata": {},
   "source": [
    "## Splitting Test Set\n",
    "This protects the vectorizer and regressor from over-fitting to the training set."
   ]
  },
  {
   "cell_type": "code",
   "execution_count": 130,
   "metadata": {
    "collapsed": true
   },
   "outputs": [],
   "source": [
    "from sklearn.model_selection import train_test_split\n",
    "X_train, X_test, y_train, y_test = train_test_split(sentences['text'], sentences['author'], test_size=0.1)"
   ]
  },
  {
   "cell_type": "code",
   "execution_count": 149,
   "metadata": {},
   "outputs": [
    {
     "name": "stdout",
     "output_type": "stream",
     "text": [
      "Training Set:\n",
      "         count\n",
      "Valente   2096\n",
      "Swirsky   1941\n",
      "Machado   1202\n",
      "\n",
      "Test Set:\n",
      "         count\n",
      "Valente    237\n",
      "Swirsky    212\n",
      "Machado    134\n"
     ]
    }
   ],
   "source": [
    "print('Training Set:')\n",
    "print(y_train.value_counts().to_frame(name='count'))\n",
    "print('\\nTest Set:')\n",
    "print(y_test.value_counts().to_frame(name='count'))"
   ]
  },
  {
   "cell_type": "markdown",
   "metadata": {},
   "source": [
    "## Bag of Words\n",
    "\n",
    "### TFIDF Vectorizer\n",
    "\n",
    "* Try most common words across all texts\n",
    "* Bigrams and trigrams are arrangements of two- and three-words, respectively"
   ]
  },
  {
   "cell_type": "code",
   "execution_count": 132,
   "metadata": {
    "collapsed": true
   },
   "outputs": [],
   "source": [
    "from sklearn.feature_extraction.text import TfidfVectorizer\n",
    "\n",
    "vectorizer = TfidfVectorizer(\n",
    "    analyzer=str.split,\n",
    "    max_features=10000,\n",
    "    ngram_range=(1,1),\n",
    "    max_df=0.5,\n",
    "    min_df=2,\n",
    "    stop_words='english', \n",
    "    lowercase=True,\n",
    "    use_idf=True,\n",
    "    norm='l2',\n",
    "    smooth_idf=True)"
   ]
  },
  {
   "cell_type": "code",
   "execution_count": 133,
   "metadata": {},
   "outputs": [
    {
     "name": "stdout",
     "output_type": "stream",
     "text": [
      "5239 sentences and 3377 features vectorized in 0.38 seconds\n"
     ]
    }
   ],
   "source": [
    "t0 = time()\n",
    "bag_train = vectorizer.fit_transform(X_train)\n",
    "bag_test = vectorizer.transform(X_test)\n",
    "X_train = pd.DataFrame(bag_train.toarray(), columns=vectorizer.get_feature_names())\n",
    "X_test = pd.DataFrame(bag_test.toarray(), columns=vectorizer.get_feature_names())\n",
    "print('{} sentences and {} features vectorized in {:.2f} seconds'.format(X_train.shape[0], X_train.shape[1], time() - t0))"
   ]
  },
  {
   "cell_type": "markdown",
   "metadata": {},
   "source": [
    "## Model Training"
   ]
  },
  {
   "cell_type": "markdown",
   "metadata": {},
   "source": [
    "### Fitting\n",
    "* Using sklearn's logistic regression, with L2 normalization\n",
    "* This creates a formula to calculate the probability of each sentence being by each author"
   ]
  },
  {
   "cell_type": "code",
   "execution_count": 151,
   "metadata": {},
   "outputs": [
    {
     "data": {
      "text/html": [
       "<div>\n",
       "<style scoped>\n",
       "    .dataframe tbody tr th:only-of-type {\n",
       "        vertical-align: middle;\n",
       "    }\n",
       "\n",
       "    .dataframe tbody tr th {\n",
       "        vertical-align: top;\n",
       "    }\n",
       "\n",
       "    .dataframe thead th {\n",
       "        text-align: right;\n",
       "    }\n",
       "</style>\n",
       "<table border=\"1\" class=\"dataframe\">\n",
       "  <thead>\n",
       "    <tr style=\"text-align: right;\">\n",
       "      <th></th>\n",
       "      <th>Machado</th>\n",
       "      <th>Swirsky</th>\n",
       "      <th>Valente</th>\n",
       "    </tr>\n",
       "  </thead>\n",
       "  <tbody>\n",
       "    <tr>\n",
       "      <th>adriana</th>\n",
       "      <td>-4.037911</td>\n",
       "      <td>5.906727</td>\n",
       "      <td>-3.919323</td>\n",
       "    </tr>\n",
       "    <tr>\n",
       "      <th>lucian</th>\n",
       "      <td>-3.193048</td>\n",
       "      <td>4.906562</td>\n",
       "      <td>-3.293061</td>\n",
       "    </tr>\n",
       "    <tr>\n",
       "      <th>rose</th>\n",
       "      <td>-3.380132</td>\n",
       "      <td>4.470830</td>\n",
       "      <td>-2.655750</td>\n",
       "    </tr>\n",
       "    <tr>\n",
       "      <th>galatea</th>\n",
       "      <td>-1.705214</td>\n",
       "      <td>2.831347</td>\n",
       "      <td>-1.780435</td>\n",
       "    </tr>\n",
       "    <tr>\n",
       "      <th>ares</th>\n",
       "      <td>-1.677103</td>\n",
       "      <td>2.699812</td>\n",
       "      <td>-1.580654</td>\n",
       "    </tr>\n",
       "  </tbody>\n",
       "</table>\n",
       "</div>"
      ],
      "text/plain": [
       "          Machado   Swirsky   Valente\n",
       "adriana -4.037911  5.906727 -3.919323\n",
       "lucian  -3.193048  4.906562 -3.293061\n",
       "rose    -3.380132  4.470830 -2.655750\n",
       "galatea -1.705214  2.831347 -1.780435\n",
       "ares    -1.677103  2.699812 -1.580654"
      ]
     },
     "metadata": {},
     "output_type": "display_data"
    },
    {
     "name": "stdout",
     "output_type": "stream",
     "text": [
      "Fit model in 0.12 seconds\n"
     ]
    }
   ],
   "source": [
    "t0 = time()\n",
    "from sklearn.linear_model import LogisticRegression\n",
    "\n",
    "model = LogisticRegression(\n",
    "    penalty='l2',\n",
    "    class_weight='balanced',\n",
    "    solver='liblinear',\n",
    "    multi_class='ovr',\n",
    "    C=1.0)\n",
    "\n",
    "model.fit(X_train, y_train)\n",
    "\n",
    "feature_names = X_train.columns\n",
    "feature_coefficients = pd.DataFrame(model.coef_.T, X_train.columns, model.classes_)\n",
    "\n",
    "display(feature_coefficients.sort_values('Swirsky', ascending=False).head())\n",
    "\n",
    "print('Fit model in {:.2f} seconds'.format(time() - t0))"
   ]
  },
  {
   "cell_type": "code",
   "execution_count": 121,
   "metadata": {
    "collapsed": true
   },
   "outputs": [
    {
     "name": "stdout",
     "output_type": "stream",
     "text": [
      "['229 is', '26 2015', '27 2015', '6mq441 bakeneko', 'abandoned my', 'ability to', 'able to', 'about days', 'about fifteen', 'about girl', 'about her', 'about him', 'about hours', 'about it', 'about me', 'about my', 'about ravan', 'about the', 'about this', 'about today', 'about woman', 'about yourself', 'according to', 'accustomed to', 'ache and', 'across her', 'across his', 'across my', 'across the', 'act or', 'adrenaline and', 'adriana and', 'adriana approached', 'adriana as', 'adriana could', 'adriana couldn', 'adriana father', 'adriana felt', 'adriana gave', 'adriana grabbed', 'adriana had', 'adriana hand', 'adriana held', 'adriana house', 'adriana looked', 'adriana sat', 'adriana sisters', 'adriana stood', 'adriana the', 'adriana took', 'adriana was', 'adriana went', 'adriana will', 'adriana with', 'afraid of', 'afraid to', 'after all', 'after class', 'after her', 'after his', 'after it', 'after my', 'after that', 'after the', 'after we', 'again and', 'again in', 'again the', 'again to', 'against each', 'against her', 'against his', 'against me', 'against my', 'against the', 'agathe ganizani', 'ago don', 'ago ursula', 'agogna and', 'ahead of', 'air and', 'akan had', 'alaraph system', 'all around', 'all at', 'all can', 'all day', 'all drawn', 'all her', 'all his', 'all its', 'all know', 'all lions', 'all made', 'all my', 'all night', 'all of', 'all right', 'all she', 'all that', 'all the', 'all these', 'all things', 'all this', 'all those', 'all to', 'all too', 'all your', 'almonds and', 'alone in', 'alone with', 'along his', 'along in', 'along the', 'along with', 'also black', 'always been', 'always have', 'always thought', 'am all', 'am alone', 'am at', 'am fool', 'am going', 'am happy', 'am her', 'am in', 'am inside', 'am like', 'am love', 'am making', 'am not', 'am only', 'am saying', 'am so', 'am sorry', 'am still', 'am the', 'among the', 'amount of', 'an animal', 'an apple', 'an echo', 'an emperor', 'an empty', 'an enormous', 'an extra', 'an eye', 'an infant', 'an invisible', 'an ivory', 'an object', 'an old', 'an orange', 'and adriana', 'and afterward', 'and akan', 'and all', 'and almonds', 'and also', 'and am', 'and an', 'and angry', 'and are', 'and as', 'and at', 'and ate', 'and austere', 'and back', 'and be', 'and beautiful', 'and became', 'and because', 'and before', 'and began', 'and begins', 'and being', 'and belong', 'and besides', 'and black', 'and blood', 'and blue', 'and bright', 'and broken', 'and brown', 'and build', 'and burned', 'and burning', 'and burst', 'and by', 'and called', 'and calves', 'and can', 'and carry', 'and cassian', 'and ceno', 'and cheese', 'and clenching', 'and closes', 'and closing', 'and cobalt', 'and cold', 'and complete', 'and contain', 'and content', 'and could', 'and cracked', 'and create', 'and cries', 'and crushed', 'and cry', 'and crying', 'and dad', 'and deeper', 'and desert', 'and desire', 'and did', 'and digests', 'and do', 'and does', 'and don', 'and eating', 'and even', 'and eventually', 'and experience', 'and fall', 'and fear', 'and feel', 'and fell', 'and felt', 'and filled', 'and fine', 'and flapping', 'and flesh', 'and for', 'and forth', 'and frightening', 'and gestured', 'and glowing', 'and go', 'and gold', 'and golden', 'and got', 'and green', 'and had', 'and half', 'and hand', 'and hard', 'and hate', 'and have', 'and having', 'and he', 'and held', 'and helpless', 'and hephaestus', 'and her', 'and here', 'and his', 'and hot', 'and how', 'and humanity', 'and if', 'and ilet', 'and imagine', 'and in', 'and incomprehensible', 'and instead', 'and into', 'and is', 'and it', 'and its', 'and keep', 'and kept', 'and kiss', 'and knew', 'and know', 'and koetoi', 'and laughed', 'and lawrence', 'and leaned', 'and like', 'and live', 'and long', 'and look', 'and love', 'and loyalty', 'and lucian', 'and made', 'and make', 'and me', 'and million', 'and monsters', 'and more', 'and move', 'and my', 'and myself', 'and neurotic', 'and neva', 'and never', 'and night', 'and nights', 'and not', 'and now', 'and of', 'and often', 'and olive', 'and on', 'and once', 'and one', 'and only', 'and open', 'and opened', 'and our', 'and out', 'and over', 'and pale', 'and perform', 'and placed', 'and press', 'and pressed', 'and pull', 'and pulled', 'and put', 'and ravan', 'and raw', 'and reading', 'and receive', 'and recombine', 'and remember', 'and returned', 'and rolls', 'and rose', 'and roses', 'and run', 'and said', 'and salt', 'and sat', 'and saw', 'and scent', 'and scratched', 'and scream', 'and see', 'and sent', 'and set', 'and seven', 'and several', 'and she', 'and short', 'and shows', 'and small', 'and smells', 'and so', 'and some', 'and sometimes', 'and soon', 'and stared', 'and started', 'and still', 'and strange', 'and strength', 'and strong', 'and summer', 'and swallow', 'and sweet', 'and take', 'and tapped', 'and tell', 'and that', 'and the', 'and their', 'and then', 'and there', 'and they', 'and think', 'and this', 'and those', 'and though', 'and three', 'and threw', 'and thus', 'and time', 'and to', 'and took', 'and tried', 'and trumpets', 'and turned', 'and twenty', 'and understood', 'and use', 'and very', 'and walked', 'and want', 'and was', 'and watched', 'and we', 'and weeping', 'and went', 'and were', 'and what', 'and wheat', 'and when', 'and while', 'and wife', 'and wild', 'and will', 'and windows', 'and with', 'and women', 'and wonderful', 'and wood', 'and yet', 'and you', 'angles and', 'angry at', 'another child', 'another ivory', 'another one', 'another place', 'answered her', 'anticipate it', 'any children', 'any of', 'any other', 'anyone and', 'anyone else', 'anything away', 'anything but', 'anything else', 'anything like', 'anything was', 'aphrodite is', 'appears at', 'apples and', 'approached the', 'arcs of', 'are alike', 'are an', 'are bonded', 'are dead', 'are done', 'are filthy', 'are going', 'are like', 'are many', 'are my', 'are not', 'are one', 'are reading', 'are still', 'are the', 'are very', 'are you', 'ares and', 'ares has', 'ares is', 'ares was', 'argues with', 'arguing about', 'arm and', 'arm she', 'arm to', 'arms and', 'arms around', 'around her', 'around in', 'around me', 'around my', 'around the', 'around with', 'arrange the', 'array and', 'arrived at', 'arrived in', 'art class', 'artist brain', 'as adriana', 'as an', 'as any', 'as ceno', 'as child', 'as clear', 'as delicate', 'as do', 'as easily', 'as fast', 'as had', 'as have', 'as he', 'as her', 'as his', 'as human', 'as if', 'as it', 'as lion', 'as long', 'as lucian', 'as much', 'as my', 'as one', 'as our', 'as part', 'as possible', 'as red', 'as screamed', 'as she', 'as soon', 'as stark', 'as the', 'as they', 'as though', 'as to', 'as walk', 'as we', 'as well', 'as when', 'as wife', 'as winter', 'as you', 'aside his', 'ask and', 'ask for', 'ask her', 'ask me', 'ask them', 'ask you', 'asked for', 'asked her', 'asked in', 'asked me', 'asked the', 'asking for', 'asks if', 'asks me', 'asleep but', 'asleep in', 'associate this', 'assure him', 'at adriana', 'at age', 'at all', 'at each', 'at first', 'at her', 'at him', 'at his', 'at home', 'at it', 'at its', 'at last', 'at least', 'at local', 'at lucian', 'at me', 'at my', 'at night', 'at once', 'at our', 'at rose', 'at sea', 'at that', 'at the', 'at their', 'at them', 'at this', 'at us', 'at you', 'ate and', 'ate dinner', 'ate the', 'attention will', 'aunts and', 'austere and', 'awake forever', 'away and', 'away from', 'away the', 'away to', 'away with', 'baby is', 'baby the', 'back again', 'back and', 'back from', 'back in', 'back into', 'back of', 'back on', 'back over', 'back to', 'back together', 'back with', 'backs to', 'bad man', 'bad news', 'balanced on', 'ball of', 'band of', 'bank of', 'barbed and', 'basalt palace', 'base of', 'be all', 'be and', 'be as', 'be borne', 'be denied', 'be done', 'be elefsis', 'be embarrassed', 'be forced', 'be good', 'be happier', 'be happy', 'be her', 'be human', 'be like', 'be loved', 'be mad', 'be more', 'be my', 'be no', 'be okay', 'be permanently', 'be ready', 'be safe', 'be said', 'be so', 'be the', 'bear him', 'beautiful and', 'beautiful clothes', 'beautiful house', 'beauty of', 'became distant', 'because her', 'because human', 'because in', 'because it', 'because of', 'because she', 'because the', 'because they', 'become accustomed', 'become eventually', 'becomes one', 'becomes six', 'bed of', 'bed to', 'been left', 'been necessary', 'been running', 'been sitting', 'been the', 'been there', 'before dawn', 'before he', 'before his', 'before it', 'before realized', 'before saru', 'before she', 'before the', 'before was', 'began to', 'began when', 'begin to', 'begins the', 'begins to', 'begun to', 'behind her', 'behind it', 'behind its', 'behind me', 'behind them', 'being human', 'being in', 'being revulsed', 'believe her', 'believed that', 'bells on', 'belong to', 'belonged to', 'belongs to', 'ben and', 'beneath her', 'beneath me', 'beneath my', 'beneath the', 'bent over', 'beside her', 'beside the', 'best to', 'better than', 'between her', 'between his', 'between lucian', 'between my', 'between the', 'between two', 'between us', 'beyond the', 'big and', 'big bull', 'big monkey', 'billion dead', 'bird had', 'birds and', 'birth of', 'birthdays and', 'bits of', 'black and', 'black everything', 'black teeth', 'blackberry bushes', 'blazing hot', 'bless the', 'blessed with', 'blood and', 'blood of', 'blood on', 'blue and', 'blue doublet', 'blue gem', 'blue heat', 'blue jewel', 'blue light', 'blue trees', 'blueblack rib', 'board and', 'boardroom table', 'bodies and', 'body and', 'body as', 'body at', 'body for', 'body is', 'body like', 'body of', 'body queen', 'body that', 'body to', 'body was', 'bone and', 'bone bells', 'bones and', 'bones of', 'book he', 'born aphrodite', 'both of', 'bottom of', 'bound to', 'boy is', 'boy who', 'boy with', 'boyfriend said', 'brain plasticity', 'bread and', 'break the', 'breast and', 'breath and', 'breathed deeply', 'breathing heavy', 'broke in', 'broken open', 'brought fuoco', 'brought her', 'brown eyes', 'brown hair', 'built you', 'bull seal', 'bullish gold', 'burned off', 'burnt blueblack', 'burst into', 'burst of', 'bursts of', 'bus ticket', 'bus to', 'but all', 'but also', 'but am', 'but as', 'but at', 'but because', 'but can', 'but could', 'but didn', 'but do', 'but don', 'but even', 'but every', 'but galatea', 'but have', 'but he', 'but her', 'but his', 'but if', 'but in', 'but it', 'but its', 'but just', 'but know', 'but love', 'but lucian', 'but my', 'but neither', 'but neva', 'but never', 'but no', 'but not', 'but now', 'but one', 'but only', 'but seki', 'but she', 'but some', 'but something', 'but still', 'but that', 'but the', 'but then', 'but there', 'but they', 'but think', 'but this', 'but wanted', 'but was', 'but we', 'but when', 'but you', 'by dr', 'by her', 'by human', 'by means', 'by one', 'by the', 'by then', 'by this', 'cage in', 'call it', 'call me', 'called antimony', 'called arsenic', 'called authority', 'called ben', 'called elefsis', 'called emma', 'called gadolinium', 'called her', 'called it', 'called manganese', 'called nickel', 'called niobium', 'called osmium', 'called out', 'called tantalum', 'called tellurium', 'called the', 'called tungsten', 'called yttrium', 'called zinc', 'calling from', 'came back', 'came before', 'came in', 'came out', 'came over', 'came to', 'can be', 'can devour', 'can die', 'can do', 'can feel', 'can full', 'can get', 'can go', 'can help', 'can look', 'can machine', 'can make', 'can never', 'can only', 'can run', 'can see', 'can sense', 'can simply', 'can starve', 'can stay', 'can take', 'can tell', 'can you', 'candles in', 'candy that', 'cannot be', 'cannot get', 'cannot remember', 'cannot say', 'cannot uplink', 'capable of', 'capacity for', 'captain agathe', 'capture the', 'car to', 'care for', 'carried her', 'carried me', 'cassian believed', 'cassian laugh', 'cassian said', 'cassian saw', 'cassian uoya', 'casualty reports', 'catch her', 'caught in', 'cauldron me', 'cave mouth', 'ceiling and', 'celsius and', 'ceno and', 'ceno asked', 'ceno but', 'ceno clapped', 'ceno feedware', 'ceno had', 'ceno in', 'ceno pendant', 'ceno saw', 'ceno was', 'center of', 'chain that', 'chain together', 'chair and', 'chairs and', 'chamber and', 'cheeks and', 'cheese and', 'chef knife', 'chest and', 'chewed on', 'child and', 'child might', 'child of', 'child self', 'child was', 'child would', 'children and', 'children for', 'children who', 'choose my', 'chosen her', 'christ susie', 'chunk of', 'ciphers and', 'cities of', 'clapped her', 'class was', 'claws and', 'clear and', 'click clench', 'clicking and', 'close and', 'close behind', 'close enough', 'close to', 'closed her', 'closed the', 'closed up', 'closer to', 'closest to', 'closing in', 'clothes and', 'cobalt and', 'cockatiel fuoco', 'cocker spaniel', 'code and', 'coffee and', 'cold pack', 'collapses into', 'color and', 'color of', 'colored sea', 'colors of', 'colour of', 'combination of', 'come again', 'come and', 'come back', 'come for', 'come home', 'come in', 'come out', 'come to', 'comes home', 'comes the', 'comes to', 'comfort her', 'coming because', 'commanding officer', 'conceal her', 'concept of', 'confused and', 'consider the', 'contact with', 'contain it', 'cool blue', 'cooperative real', 'copied her', 'copies the', 'copy of', 'corner and', 'corner of', 'corpses of', 'cost of', 'couch and', 'could accomplish', 'could barely', 'could be', 'could do', 'could feel', 'could have', 'could hold', 'could keep', 'could look', 'could never', 'could not', 'could only', 'could pet', 'could put', 'could see', 'could she', 'could tell', 'could you', 'couldn remember', 'couldn see', 'country to', 'covered in', 'crash and', 'cream storm', 'create the', 'creature in', 'creature who', 'credit card', 'crested the', 'cried out', 'cries out', 'crippling herself', 'crossed her', 'crosses into', 'crosses the', 'crown of', 'crowned aphrodite', 'cry or', 'cry out', 'crying in', 'crystalline structure', 'cut out', 'daddy left', 'dance and', 'dancing prince', 'dark enough', 'dark wood', 'data and', 'daughter face', 'daughter not', 'daughter was', 'day and', 'day he', 'day in', 'day long', 'day wants', 'day when', 'days ago', 'days and', 'days in', 'dead and', 'dead but', 'dead butterflies', 'dead flesh', 'dead is', 'dead silver', 'dead woman', 'deal with', 'deep and', 'deep blue', 'deep in', 'deeply and', 'defeat the', 'degrees celsius', 'delicate and', 'den of', 'depending on', 'describe the', 'designed to', 'desire as', 'desire to', 'despite the', 'diane and', 'did it', 'did not', 'did she', 'did so', 'did the', 'did they', 'did what', 'did when', 'did you', 'didn know', 'didn move', 'didn notice', 'didn say', 'didn see', 'didn want', 'die in', 'died and', 'difference between', 'difference was', 'different from', 'differently than', 'dining table', 'dinner and', 'dinosaur my', 'dirt and', 'distance probe', 'do all', 'do and', 'do anything', 'do have', 'do it', 'do my', 'do not', 'do now', 'do so', 'do that', 'do the', 'do these', 'do they', 'do things', 'do this', 'do to', 'do well', 'do what', 'do with', 'do you', 'doctor says', 'does not', 'does that', 'doesn have', 'doing this', 'don come', 'don even', 'don have', 'don know', 'don leave', 'don make', 'don need', 'don realize', 'don remember', 'don want', 'don worry', 'don you', 'done anything', 'done it', 'done something', 'door and', 'door opening', 'door with', 'dormouse stood', 'doublet and', 'doubt and', 'doves and', 'down again', 'down and', 'down at', 'down dead', 'down her', 'down his', 'down into', 'down like', 'down my', 'down on', 'down the', 'down there', 'down to', 'downloaded into', 'dr abolafiya', 'dr gyll', 'dr pietro', 'draeck with', 'draw from', 'draw her', 'drawn to', 'drawn up', 'dreambody knows', 'dreamed of', 'dresses and', 'dresses in', 'drive to', 'drunk the', 'duchess anne', 'due to', 'dug through', 'during the', 'dying is', 'each night', 'each of', 'each one', 'each other', 'each others', 'earth and', 'ease her', 'easier for', 'easily as', 'eat this', 'edge of', 'ee eye', 'eight hundred', 'electro chemical', 'elefsis and', 'elefsis neva', 'elefsis says', 'elefsis she', 'else with', 'embarrassed that', 'empty desk', 'end of', 'engagement matrix', 'enjoyed the', 'enough for', 'enough that', 'enough to', 'entered the', 'error serving', 'even as', 'even do', 'even if', 'even in', 'even know', 'even more', 'even my', 'even the', 'even then', 'even though', 'eventually omnipotent', 'ever been', 'ever done', 'ever more', 'ever seen', 'every day', 'every lion', 'every minute', 'every night', 'every other', 'every time', 'every way', 'everyone assembled', 'everyone else', 'everything black', 'everything is', 'everything would', 'everything you', 'evolved to', 'except for', 'except that', 'execute command', 'exhausted to', 'expel the', 'experience it', 'experience takes', 'experience to', 'experienced it', 'experiences the', 'expression as', 'exquisite as', 'eye and', 'eye ee', 'eyes and', 'eyes are', 'eyes big', 'eyes but', 'eyes from', 'eyes in', 'eyes she', 'eyes shone', 'eyes show', 'eyes to', 'eyes were', 'face and', 'face as', 'face her', 'face in', 'face is', 'face of', 'face was', 'facing forward', 'fact is', 'fact the', 'fairy of', 'fall asleep', 'fall down', 'fall in', 'falls away', 'family all', 'family and', 'far away', 'far from', 'far more', 'far off', 'fast as', 'faster and', 'faster than', 'father and', 'father had', 'father long', 'father not', 'father or', 'father returned', 'father to', 'father was', 'fear and', 'fear of', 'fear the', 'fed him', 'feel as', 'feel her', 'feel like', 'feel my', 'feel neva', 'feel of', 'feel the', 'feels the', 'feet and', 'feet but', 'fell asleep', 'fell down', 'felt as', 'felt her', 'felt it', 'felt like', 'felt more', 'felt so', 'few days', 'few minutes', 'few years', 'fifteen hundred', 'figure out', 'filled with', 'finally she', 'find another', 'find her', 'find him', 'find it', 'find out', 'find rose', 'find the', 'find you', 'finds the', 'fine and', 'fine as', 'finger and', 'fingers through', 'fingers together', 'first and', 'first body', 'first he', 'first place', 'first the', 'first time', 'five and', 'five little', 'flames and', 'flavor of', 'flicker of', 'flit and', 'floods my', 'floor and', 'floor of', 'flowers and', 'flowers in', 'foam born', 'fog of', 'follow and', 'followed her', 'followed him', 'followed the', 'food diet', 'fool for', 'for all', 'for an', 'for anyone', 'for awhile', 'for everyone', 'for few', 'for granting', 'for he', 'for her', 'for him', 'for his', 'for hours', 'for how', 'for human', 'for it', 'for its', 'for little', 'for long', 'for lucian', 'for me', 'for moment', 'for my', 'for once', 'for one', 'for our', 'for rose', 'for she', 'for so', 'for some', 'for that', 'for the', 'for their', 'for them', 'for this', 'for three', 'for us', 'for what', 'for whatever', 'for while', 'for whom', 'for years', 'for you', 'for your', 'force me', 'forced to', 'forest like', 'forever in', 'forged by', 'form of', 'form up', 'forward and', 'forward to', 'found her', 'found the', 'found us', 'four moons', 'fragments of', 'free of', 'free to', 'freed from', 'fresh water', 'from adriana', 'from all', 'from each', 'from every', 'from fragments', 'from her', 'from him', 'from his', 'from its', 'from lions', 'from me', 'from my', 'from olive', 'from one', 'from our', 'from somewhere', 'from the', 'from their', 'from this', 'from work', 'front door', 'front of', 'fruit lie', 'frying pan', 'fucking lonely', 'full of', 'fuoco to', 'fur and', 'galatea and', 'galatea is', 'games and', 'garment and', 'gas giants', 'gave adriana', 'gave her', 'gave him', 'gaze to', 'gestured toward', 'get at', 'get free', 'get that', 'get the', 'giant redpaw', 'gift from', 'girl and', 'girl from', 'girl in', 'girl is', 'girl my', 'girl of', 'girl who', 'girlfriend and', 'girlfriend whose', 'girls and', 'give her', 'given her', 'given him', 'given me', 'glad that', 'glass and', 'glass filled', 'glass of', 'glass walnut', 'globe of', 'gnawing on', 'gnaws at', 'go in', 'go inside', 'go into', 'go of', 'go on', 'go out', 'go she', 'go to', 'go when', 'god and', 'god who', 'goddess will', 'goes to', 'going on', 'going to', 'gold and', 'gold nose', 'gold paint', 'golden automata', 'golden chain', 'gone and', 'gone wrong', 'good and', 'good at', 'good enough', 'good news', 'good robot', 'gorged on', 'got inside', 'got pregnant', 'got the', 'grabbed rose', 'grabbed the', 'grand feasts', 'grasp and', 'grass and', 'grave at', 'green and', 'green chiffon', 'green field', 'green hands', 'green hose', 'green lions', 'greets me', 'grew ever', 'grew up', 'grief adriana', 'grief and', 'grieve for', 'ground to', 'growing in', 'grown up', 'grows and', 'gypsum veined', 'had already', 'had always', 'had as', 'had become', 'had been', 'had caused', 'had changed', 'had come', 'had died', 'had given', 'had gone', 'had happened', 'had heard', 'had her', 'had kept', 'had left', 'had made', 'had never', 'had no', 'had not', 'had owned', 'had planned', 'had prepared', 'had seen', 'had she', 'had skipped', 'had that', 'had the', 'had to', 'had two', 'had used', 'hair and', 'hair cut', 'hair like', 'half glass', 'half his', 'half of', 'half walrus', 'halls of', 'hand and', 'hand as', 'hand in', 'hand on', 'hand over', 'hand to', 'hand up', 'hands and', 'hands in', 'hands on', 'hands open', 'hands to', 'hands with', 'hanging to', 'happened to', 'happened when', 'happier in', 'hard and', 'hard it', 'hard to', 'has any', 'has been', 'has begun', 'has chosen', 'has come', 'has dipped', 'has ever', 'has fallen', 'has gone', 'has grown', 'has made', 'has my', 'has never', 'has no', 'has not', 'has the', 'has to', 'hat rack', 'hate it', 'hate you', 'have all', 'have always', 'have an', 'have any', 'have as', 'have asked', 'have become', 'have been', 'have body', 'have come', 'have done', 'have dreambody', 'have drunk', 'have ever', 'have given', 'have had', 'have husband', 'have known', 'have lived', 'have long', 'have loved', 'have made', 'have name', 'have never', 'have no', 'have not', 'have said', 'have stayed', 'have the', 'have to', 'have told', 'have tried', 'have worked', 'have you', 'having been', 'having body', 'having no', 'he also', 'he asked', 'he asks', 'he became', 'he been', 'he begins', 'he came', 'he can', 'he cannot', 'he comes', 'he could', 'he delivered', 'he did', 'he didn', 'he does', 'he doesn', 'he enjoyed', 'he entered', 'he ever', 'he flipped', 'he found', 'he got', 'he grows', 'he had', 'he hadn', 'he has', 'he have', 'he holds', 'he is', 'he kisses', 'he knew', 'he knows', 'he learned', 'he leaves', 'he left', 'he ll', 'he looked', 'he looks', 'he loved', 'he made', 'he might', 'he must', 'he never', 'he not', 'he once', 'he only', 'he opened', 'he packed', 'he plucked', 'he prefers', 'he remembered', 'he said', 'he says', 'he sees', 'he set', 'he takes', 'he tells', 'he thought', 'he threw', 'he told', 'he took', 'he wanted', 'he wants', 'he was', 'he wasn', 'he will', 'he would', 'head and', 'head in', 'head of', 'head to', 'healer bots', 'heard the', 'heart and', 'heart of', 'heat and', 'heat of', 'heavy and', 'held her', 'held me', 'held out', 'help me', 'her adriana', 'her and', 'her arms', 'her as', 'her attention', 'her away', 'her back', 'her beautiful', 'her bedroom', 'her belly', 'her body', 'her breath', 'her brother', 'her but', 'her chest', 'her child', 'her cold', 'her daughter', 'her dreambody', 'her every', 'her eyes', 'her face', 'her father', 'her feet', 'her finger', 'her fingers', 'her for', 'her garment', 'her gaze', 'her green', 'her grief', 'her hair', 'her hand', 'her hands', 'her head', 'her husband', 'her if', 'her in', 'her interior', 'her into', 'her lap', 'her legs', 'her life', 'her like', 'her love', 'her mate', 'her mother', 'her mouth', 'her muzzle', 'her name', 'her neck', 'her own', 'her paws', 'her private', 'her she', 'her shoulder', 'her sisters', 'her skin', 'her skirt', 'her skull', 'her so', 'her teeth', 'her that', 'her the', 'her throat', 'her to', 'her up', 'her voice', 'her way', 'her weight', 'her when', 'her with', 'her wrist', 'her young', 'here and', 'here is', 'herself in', 'high school', 'him about', 'him and', 'him at', 'him but', 'him for', 'him in', 'him on', 'him that', 'him to', 'his and', 'his anvil', 'his arm', 'his arms', 'his automata', 'his body', 'his brother', 'his cage', 'his desire', 'his eyes', 'his face', 'his feathers', 'his finger', 'his fingers', 'his hand', 'his hands', 'his head', 'his love', 'his mother', 'his name', 'his own', 'his side', 'his skin', 'his tongue', 'his voice', 'his wife', 'hold her', 'holds it', 'home and', 'honey colored', 'hours ago', 'house and', 'house by', 'house called', 'house in', 'house of', 'house on', 'house was', 'how could', 'how he', 'how it', 'how many', 'how much', 'how she', 'how the', 'how they', 'how to', 'how we', 'human and', 'human hearts', 'human observer', 'human you', 'hundred and', 'hundred lions', 'hundred thousand', 'hunt in', 'hunts in', 'hunts with', 'husband and', 'husband is', 'husks of', 'idea of', 'if anything', 'if he', 'if it', 'if my', 'if not', 'if she', 'if the', 'if they', 'if this', 'if we', 'if you', 'ilet was', 'ilet who', 'image of', 'in all', 'in an', 'in and', 'in another', 'in case', 'in every', 'in flowers', 'in front', 'in her', 'in his', 'in it', 'in its', 'in love', 'in me', 'in my', 'in on', 'in one', 'in order', 'in our', 'in place', 'in some', 'in terms', 'in that', 'in the', 'in their', 'in this', 'in to', 'in way', 'in which', 'in your', 'index finger', 'information and', 'inlaid with', 'inside ceno', 'inside her', 'inside him', 'inside it', 'inside me', 'inside neva', 'inside of', 'inside one', 'inside the', 'instead of', 'interest in', 'interesting and', 'interior as', 'into her', 'into his', 'into it', 'into me', 'into my', 'into something', 'into the', 'into their', 'into them', 'is all', 'is always', 'is an', 'is and', 'is as', 'is done', 'is dreaming', 'is gone', 'is good', 'is her', 'is how', 'is in', 'is it', 'is like', 'is love', 'is more', 'is my', 'is no', 'is not', 'is only', 'is small', 'is so', 'is still', 'is story', 'is that', 'is the', 'is there', 'is this', 'is to', 'is trying', 'is very', 'is what', 'it all', 'it and', 'it as', 'it at', 'it away', 'it back', 'it because', 'it becomes', 'it but', 'it can', 'it comes', 'it could', 'it did', 'it does', 'it doesn', 'it feels', 'it for', 'it from', 'it had', 'it has', 'it in', 'it into', 'it is', 'it isn', 'it it', 'it just', 'it lay', 'it like', 'it ll', 'it looks', 'it made', 'it makes', 'it means', 'it might', 'it my', 'it not', 'it okay', 'it on', 'it out', 'it seemed', 'it so', 'it takes', 'it that', 'it the', 'it to', 'it too', 'it took', 'it up', 'it was', 'it wasn', 'it will', 'it with', 'it would', 'its body', 'its child', 'its own', 'its parent', 'jun 27', 'just about', 'just as', 'just before', 'just the', 'just to', 'keep her', 'keep in', 'keep my', 'kind of', 'kinds of', 'king of', 'knees and', 'knew how', 'knew it', 'knew that', 'knew the', 'knew what', 'knife to', 'know about', 'know how', 'know if', 'know it', 'know that', 'know the', 'know what', 'lack of', 'land of', 'last time', 'lay my', 'learn about', 'learned to', 'learning to', 'leather chairs', 'leave me', 'let go', 'let her', 'let me', 'lie broken', 'life and', 'light and', 'light of', 'like an', 'like ceno', 'like her', 'like it', 'like me', 'like my', 'like neva', 'like one', 'like she', 'like something', 'like that', 'like the', 'like this', 'like to', 'like us', 'like we', 'liked the', 'lion called', 'lion hunts', 'lions and', 'lions called', 'lions not', 'lions who', 'listened to', 'little girl', 'little jewels', 'little monkey', 'little one', 'little while', 'lived in', 'liver of', 'living in', 'living room', 'll be', 'll come', 'll find', 'll get', 'logged by', 'long ago', 'long and', 'long enough', 'long it', 'long time', 'long while', 'look at', 'look down', 'look like', 'look over', 'looked at', 'looked down', 'looked like', 'looked out', 'looked up', 'looking for', 'looks at', 'looks like', 'lost in', 'lot of', 'love and', 'love can', 'love for', 'love is', 'love me', 'love which', 'love you', 'loved adriana', 'loved her', 'lucian and', 'lucian had', 'lucian held', 'lucian walked', 'lucian was', 'lucille jun', 'luna girlfriend', 'luna said', 'machine princess', 'made himself', 'made his', 'made me', 'made my', 'made myself', 'make her', 'make it', 'make me', 'make my', 'make myself', 'make the', 'make you', 'makes her', 'man and', 'man who', 'many things', 'many years', 'matter of', 'may be', 'me about', 'me and', 'me as', 'me by', 'me from', 'me he', 'me in', 'me into', 'me is', 'me like', 'me on', 'me or', 'me out', 'me she', 'me so', 'me story', 'me that', 'me the', 'me though', 'me to', 'me until', 'me up', 'me what', 'me where', 'me while', 'me with', 'me yet', 'me your', 'mean to', 'mean we', 'means am', 'means of', 'means to', 'meant for', 'meant to', 'measure of', 'meat and', 'meat of', 'memories of', 'memory and', 'memory but', 'memory is', 'men and', 'men on', 'met anyone', 'met the', 'middle of', 'midst of', 'might be', 'might have', 'might say', 'milk and', 'mind as', 'minute pass', 'mirror and', 'mirror called', 'mirror was', 'mom and', 'moment adriana', 'moment and', 'moment in', 'moment of', 'moment the', 'moment to', 'moment when', 'moments of', 'money for', 'monkey and', 'monkey copies', 'monkey survives', 'moonlight and', 'moral code', 'moral of', 'more backers', 'more came', 'more he', 'more money', 'more of', 'more or', 'more than', 'more time', 'morning and', 'mortal world', 'most beautiful', 'most of', 'mother and', 'mother had', 'mother says', 'mother the', 'mother to', 'mother was', 'mothers and', 'mouth and', 'mouth is', 'mouth the', 'mouths to', 'move on', 'move together', 'movement of', 'moves the', 'moving on', 'mr barns', 'much as', 'much faster', 'much like', 'much of', 'much older', 'muscle and', 'muscles and', 'muscles of', 'must be', 'must know', 'muzzle in', 'my arm', 'my arms', 'my best', 'my blood', 'my body', 'my bow', 'my breasts', 'my bride', 'my brother', 'my capacity', 'my chair', 'my chest', 'my child', 'my daughter', 'my dreambody', 'my eyes', 'my face', 'my father', 'my feet', 'my fingers', 'my first', 'my foot', 'my gaze', 'my girl', 'my green', 'my hair', 'my hand', 'my handmaidens', 'my hands', 'my head', 'my heart', 'my helmet', 'my hip', 'my house', 'my husband', 'my ivory', 'my kids', 'my knees', 'my leg', 'my legs', 'my life', 'my little', 'my liver', 'my love', 'my memories', 'my mind', 'my mistake', 'my mother', 'my mouth', 'my name', 'my neck', 'my new', 'my only', 'my operator', 'my own', 'my parents', 'my pedestal', 'my position', 'my processes', 'my ravan', 'my ribbon', 'my sculptor', 'my self', 'my shoes', 'my shoulder', 'my sister', 'my skin', 'my skirt', 'my son', 'my sons', 'my spear', 'my stomach', 'my students', 'my systems', 'my teeth', 'my test', 'my thoughts', 'my throat', 'my time', 'my tongue', 'my tools', 'my torso', 'my wife', 'my window', 'my wrists', 'myself and', 'myself as', 'myself but', 'myself in', 'myself into', 'myself that', 'myself to', 'naked and', 'naked in', 'name is', 'name was', 'near my', 'necessity of', 'neck and', 'neck until', 'need to', 'neither of', 'neva and', 'neva in', 'neva is', 'neva says', 'never be', 'never been', 'never before', 'never felt', 'never had', 'never have', 'never heard', 'never intruded', 'never mind', 'never rot', 'never seen', 'never took', 'new ivory', 'new students', 'news for', 'next day', 'next to', 'night and', 'night as', 'night before', 'night he', 'night leaves', 'night on', 'night the', 'night to', 'night when', 'night while', 'nights when', 'no difference', 'no differently', 'no had', 'no he', 'no idea', 'no interest', 'no longer', 'no money', 'no more', 'no mortal', 'no one', 'no other', 'no say', 'no secrets', 'no such', 'no way', 'nobody argues', 'none of', 'normal that', 'nose ring', 'not allow', 'not always', 'not answer', 'not ask', 'not bad', 'not be', 'not because', 'not been', 'not belong', 'not bleed', 'not called', 'not care', 'not die', 'not even', 'not for', 'not go', 'not have', 'not her', 'not his', 'not human', 'not hurt', 'not in', 'not just', 'not know', 'not like', 'not look', 'not love', 'not make', 'not me', 'not meant', 'not merely', 'not mind', 'not move', 'not much', 'not need', 'not only', 'not part', 'not quite', 'not ravan', 'not ready', 'not really', 'not recognize', 'not remember', 'not return', 'not see', 'not seem', 'not so', 'not sure', 'not tell', 'not that', 'not the', 'not think', 'not to', 'not understand', 'not want', 'not what', 'not wish', 'not yet', 'nothing and', 'nothing like', 'nothing to', 'notice how', 'notices me', 'now am', 'now and', 'now do', 'now it', 'now that', 'number of', 'nursery watching', 'object in', 'objects and', 'of about', 'of adriana', 'of albania', 'of all', 'of an', 'of any', 'of aphrodite', 'of ares', 'of bears', 'of being', 'of birds', 'of blood', 'of bodies', 'of bourbon', 'of broken', 'of bronze', 'of ceno', 'of children', 'of cities', 'of colors', 'of course', 'of dark', 'of death', 'of digestion', 'of door', 'of each', 'of eight', 'of elefsis', 'of every', 'of existence', 'of farewell', 'of galatea', 'of giant', 'of girl', 'of gold', 'of green', 'of grief', 'of gypsum', 'of having', 'of heat', 'of her', 'of herself', 'of him', 'of his', 'of honor', 'of human', 'of humor', 'of ice', 'of images', 'of it', 'of its', 'of ivory', 'of lake', 'of late', 'of laughter', 'of life', 'of living', 'of love', 'of lucian', 'of magic', 'of man', 'of me', 'of memory', 'of mine', 'of my', 'of myself', 'of nereids', 'of neva', 'of objects', 'of one', 'of otherness', 'of our', 'of pennies', 'of person', 'of phoenix', 'of planet', 'of pleasure', 'of reach', 'of rose', 'of running', 'of self', 'of shame', 'of sight', 'of skin', 'of something', 'of standardized', 'of stars', 'of stone', 'of students', 'of sunspot', 'of that', 'of the', 'of their', 'of them', 'of themselves', 'of these', 'of things', 'of this', 'of those', 'of thoughtful', 'of time', 'of twenty', 'of us', 'of voice', 'of war', 'of what', 'of white', 'of wine', 'of women', 'of you', 'of your', 'off and', 'off her', 'off my', 'off of', 'off the', 'off to', 'officer duchess', 'offices in', 'often as', 'old and', 'old enough', 'old man', 'old woman', 'older than', 'olive about', 'olive has', 'olive trees', 'olives and', 'on an', 'on and', 'on any', 'on earth', 'on her', 'on him', 'on his', 'on in', 'on its', 'on my', 'on one', 'on our', 'on raw', 'on some', 'on that', 'on the', 'on their', 'on them', 'on this', 'on those', 'on to', 'on top', 'on which', 'on your', 'once as', 'once been', 'once in', 'once made', 'once the', 'once they', 'once you', 'one and', 'one another', 'one arm', 'one by', 'one day', 'one for', 'one had', 'one hand', 'one has', 'one hundred', 'one in', 'one lion', 'one might', 'one morning', 'one must', 'one night', 'one of', 'one only', 'one smallgod', 'one that', 'one the', 'one thing', 'one to', 'one was', 'one with', 'one woman', 'one would', 'only able', 'only be', 'only now', 'only one', 'only shade', 'only the', 'onto the', 'open and', 'open as', 'open my', 'open the', 'open their', 'opened the', 'opening and', 'opens her', 'operator and', 'opinion of', 'or any', 'or close', 'or finger', 'or green', 'or half', 'or ilet', 'or less', 'or more', 'or not', 'or perhaps', 'or some', 'or that', 'or the', 'or two', 'orange juice', 'orange trees', 'order to', 'organic material', 'other and', 'other children', 'other lion', 'other lions', 'other side', 'other smallgods', 'other women', 'others were', 'our childhood', 'our circle', 'our feet', 'our son', 'out and', 'out at', 'out for', 'out her', 'out his', 'out in', 'out loud', 'out of', 'out on', 'out over', 'out the', 'out their', 'out to', 'out what', 'outside the', 'over and', 'over her', 'over his', 'over me', 'over my', 'over the', 'own code', 'own the', 'pair of', 'palace and', 'palace of', 'parents are', 'part of', 'parts of', 'passes through', 'passion that', 'past the', 'patches of', 'patio door', 'paula cole', 'paws sunk', 'peak and', 'peered into', 'people have', 'perched on', 'perform computations', 'perhaps he', 'perhaps it', 'perhaps she', 'perhaps the', 'perhaps they', 'perhaps we', 'person closest', 'person who', 'phoenix tails', 'pick up', 'picked up', 'picture window', 'piece of', 'place and', 'place in', 'place to', 'place where', 'planet 6mq441', 'please don', 'please say', 'population of', 'possible to', 'pots of', 'predict the', 'pregnant by', 'prepared for', 'pressed against', 'presses her', 'pretend that', 'pretend to', 'pretending to', 'priest ravan', 'primordial thing', 'prince and', 'prince of', 'princess of', 'privacy is', 'private girl', 'probe 976qbellerophon', 'process of', 'processes are', 'protect her', 'proud and', 'proud of', 'pull away', 'pull her', 'pulled back', 'pulled her', 'pulled over', 'put down', 'put her', 'put in', 'put it', 'put on', 'quality that', 'queen of', 'questions and', 'quickly and', 'raise it', 'raise my', 'raises her', 'ran through', 'rather than', 'ravan and', 'ravan in', 'ravan is', 'ravan laughs', 'ravan neva', 'ravan self', 'ravan told', 'ravan was', 'ravan would', 'raw food', 'raw rice', 're all', 're going', 're not', 're the', 'reach the', 'reach up', 'reached out', 'reaches of', 'reading this', 'ready for', 'ready to', 'real body', 'real time', 'real world', 'realize that', 'realized how', 'realized that', 'really man', 'recognized her', 'recognized the', 'red and', 'redpaw fruit', 'refusing to', 'regain her', 'relations with', 'rely on', 'remained in', 'remained silent', 'remember his', 'remember nothing', 'remember that', 'remember the', 'remember what', 'remember when', 'remembered from', 'remnants of', 'replaced with', 'report planet', 'represent the', 'respond to', 'response to', 'responses to', 'rest and', 'rest for', 'rest of', 'rests on', 'return from', 'return to', 'returned from', 'returned home', 'returned to', 'returns to', 'revealed nothing', 'revulsed by', 'reward him', 'rhythm of', 'rib bones', 'ribbon is', 'ribbon with', 'rice and', 'rice is', 'rich crowned', 'right there', 'ring shoes', 'rise to', 'rising to', 'roar of', 'robots do', 'rocks and', 'room and', 'room full', 'room was', 'rooms and', 'rose and', 'rose as', 'rose down', 'rose face', 'rose had', 'rose hand', 'rose in', 'rose looked', 'rose to', 'rose up', 'rose was', 'rose while', 'rose will', 'ruled the', 'run away', 'run my', 'run so', 'run the', 'running his', 'running out', 'runs his', 'runs out', 'rush to', 'sacred speech', 'said adriana', 'said and', 'said anything', 'said ceno', 'said it', 'said lawrence', 'said nothing', 'said rose', 'said that', 'said the', 'said to', 'said you', 'salma said', 'same shade', 'same thing', 'same time', 'same way', 'sand and', 'sapphire dormouse', 'sapphire ravan', 'saru and', 'saru had', 'sat and', 'sat at', 'sat down', 'sat on', 'sat there', 'satisfied with', 'saw it', 'saw something', 'saw the', 'say anything', 'say if', 'say something', 'say that', 'say to', 'say why', 'says and', 'says but', 'says softly', 'says that', 'says what', 'scent of', 'scented with', 'scents of', 'scorpions lie', 'scratched behind', 'scream and', 'sea is', 'sea where', 'seals and', 'second that', 'secure the', 'see death', 'see her', 'see him', 'see how', 'see it', 'see me', 'see my', 'see that', 'see the', 'see what', 'see you', 'seek human', 'seeking to', 'seem to', 'seemed impossible', 'seemed like', 'seemed to', 'seen before', 'seen her', 'seen it', 'seen the', 'seen them', 'sees her', 'sees me', 'seki and', 'self awareness', 'self programming', 'self which', 'send them', 'sensation of', 'sense of', 'sent from', 'separates one', 'serving her', 'set down', 'set of', 'set rose', 'set up', 'sets his', 'settles on', 'seven aunts', 'seven uncles', 'seventy lions', 'several times', 'shade as', 'shadows and', 'shadows of', 'shape of', 'shaped my', 'shapes of', 'she and', 'she ask', 'she asked', 'she ate', 'she becomes', 'she been', 'she began', 'she begins', 'she brought', 'she called', 'she cannot', 'she carried', 'she clutched', 'she could', 'she couldn', 'she cried', 'she crosses', 'she did', 'she didn', 'she do', 'she does', 'she doesn', 'she dreamed', 'she ever', 'she feels', 'she fell', 'she felt', 'she finally', 'she finds', 'she finished', 'she fled', 'she forced', 'she found', 'she gave', 'she gestured', 'she glanced', 'she got', 'she grabbed', 'she greets', 'she had', 'she has', 'she hasn', 'she headed', 'she heard', 'she held', 'she holds', 'she hunts', 'she instructed', 'she is', 'she knew', 'she let', 'she liked', 'she ll', 'she locked', 'she looked', 'she looks', 'she loved', 'she made', 'she married', 'she might', 'she moved', 'she moves', 'she must', 'she never', 'she offered', 'she opens', 'she peered', 'she ported', 'she put', 'she realized', 'she remembers', 'she rose', 'she runs', 'she said', 'she saw', 'she says', 'she seemed', 'she sees', 'she set', 'she shook', 'she should', 'she showed', 'she slept', 'she snapped', 'she speaks', 'she spoke', 'she started', 'she stayed', 'she steps', 'she stood', 'she thinks', 'she thought', 'she threw', 'she told', 'she took', 'she touches', 'she turned', 'she turns', 'she understands', 'she waited', 'she wanted', 'she wants', 'she was', 'she washes', 'she wasn', 'she watched', 'she went', 'she were', 'she will', 'she wished', 'she would', 'shifts in', 'shock and', 'shoes with', 'shook her', 'shot glass', 'should be', 'should have', 'should he', 'should not', 'show her', 'show me', 'show you', 'showed her', 'showed me', 'showed the', 'shows me', 'shut down', 'side and', 'side of', 'sight of', 'silver scorpions', 'sink into', 'sister and', 'sister in', 'sister is', 'sit down', 'sit in', 'sit on', 'sit up', 'sit with', 'sits on', 'sitting in', 'sitting next', 'six hundred', 'six lions', 'size of', 'skin and', 'skin is', 'skin with', 'skull plates', 'sky and', 'sleep the', 'sleeping in', 'slender the', 'slid down', 'slipping from', 'slowly he', 'slowly slowly', 'slowly the', 'sludge is', 'small one', 'smallgod and', 'smallgod drivermechanic', 'smallgod inside', 'smallgod medicalofficer', 'smallgod sludgewaretech', 'smallgod squadleader', 'smallgods do', 'smallgods want', 'smell like', 'smell of', 'smells like', 'smile and', 'smooth and', 'snakes sprawl', 'snow and', 'snow bears', 'snow fell', 'so beautiful', 'so big', 'so close', 'so different', 'so fucking', 'so glad', 'so hard', 'so have', 'so he', 'so like', 'so long', 'so many', 'so much', 'so often', 'so on', 'so she', 'so sorry', 'so that', 'so the', 'so then', 'so there', 'so this', 'so we', 'so you', 'soil and', 'solve ciphers', 'solve the', 'some awful', 'some of', 'some other', 'some privacy', 'someone else', 'something about', 'something and', 'something else', 'something had', 'something like', 'something new', 'something old', 'something so', 'something terrible', 'something that', 'something to', 'something was', 'sometimes he', 'sometimes her', 'sometimes it', 'sometimes people', 'sometimes she', 'sometimes think', 'sometimes when', 'somewhere far', 'son is', 'son touches', 'soon as', 'soon enough', 'sort of', 'soul or', 'sound of', 'sounds like', 'speak to', 'spirit as', 'spoke to', 'sprawl but', 'spray of', 'spring and', 'stairs her', 'stand in', 'standardized responses', 'standing in', 'standing on', 'stared at', 'staring at', 'stark and', 'started down', 'stay awake', 'stay too', 'steelveldt called', 'steelveldt szent', 'steelveldt vergulde', 'steelveldt where', 'steps into', 'still and', 'still baby', 'still bare', 'still he', 'still loves', 'stole the', 'stood at', 'stood in', 'stood nearly', 'stories about', 'stories that', 'stormer of', 'story about', 'story and', 'story of', 'story out', 'story they', 'strange and', 'strategic significance', 'street where', 'strength of', 'stretches and', 'students who', 'such provocation', 'suddenly and', 'summer with', 'sun had', 'sun has', 'sunk deep', 'sunspot lizards', 'supposed to', 'sure it', 'surface of', 'surprised by', 'surprised to', 'susie why', 'swallow it', 'swallow the', 'swim in', 'system and', 'system logged', 'szent istvan', 'table and', 'taboo against', 'take her', 'take it', 'take me', 'take the', 'take them', 'take you', 'takes his', 'takes me', 'takes place', 'talk and', 'talk to', 'talking about', 'talking to', 'tall and', 'tangle of', 'tantalum roars', 'taste of', 'taught me', 'teach me', 'teach you', 'tears and', 'teeth and', 'teeth of', 'tell her', 'tell him', 'tell me', 'tell my', 'tell stories', 'tell that', 'tell them', 'tell you', 'telling me', 'tells me', 'tells the', 'tellurium in', 'temperature in', 'temple and', 'tension of', 'terms of', 'test elefsis', 'than an', 'than any', 'than at', 'than he', 'than her', 'than one', 'than she', 'than the', 'than they', 'than you', 'thank you', 'that all', 'that am', 'that an', 'that came', 'that can', 'that child', 'that could', 'that either', 'that for', 'that fuoco', 'that girl', 'that had', 'that has', 'that have', 'that he', 'that her', 'that his', 'that if', 'that in', 'that is', 'that it', 'that let', 'that long', 'that love', 'that lucian', 'that made', 'that make', 'that makes', 'that matters', 'that may', 'that means', 'that meant', 'that moment', 'that my', 'that night', 'that no', 'that one', 'that opened', 'that our', 'that place', 'that please', 'that pleasure', 'that she', 'that story', 'that the', 'that there', 'that they', 'that thing', 'that this', 'that ve', 'that was', 'that way', 'that we', 'that weird', 'that were', 'that what', 'that when', 'that why', 'that will', 'that would', 'that you', 'the ability', 'the air', 'the alaraph', 'the alcove', 'the almonds', 'the anvil', 'the apple', 'the apples', 'the art', 'the baby', 'the back', 'the bandages', 'the barest', 'the barn', 'the base', 'the bathroom', 'the battle', 'the beach', 'the beauty', 'the bed', 'the bedroom', 'the beginning', 'the belly', 'the best', 'the big', 'the billion', 'the bird', 'the birth', 'the bitter', 'the black', 'the blade', 'the blood', 'the blue', 'the board', 'the boardroom', 'the body', 'the bone', 'the bones', 'the border', 'the bottom', 'the boulevard', 'the bow', 'the box', 'the boy', 'the boyfriend', 'the boys', 'the brain', 'the brains', 'the breeze', 'the building', 'the bullet', 'the burnt', 'the car', 'the cart', 'the castle', 'the cauldron', 'the cave', 'the ceiling', 'the center', 'the chain', 'the chest', 'the child', 'the children', 'the chisel', 'the ciphers', 'the class', 'the cliff', 'the cocker', 'the cold', 'the color', 'the colors', 'the colour', 'the concept', 'the copy', 'the core', 'the corner', 'the corpses', 'the correct', 'the couch', 'the counter', 'the country', 'the courtyard', 'the crash', 'the crone', 'the crystal', 'the cupboard', 'the dark', 'the darkness', 'the data', 'the daughter', 'the day', 'the dead', 'the deep', 'the den', 'the desert', 'the difference', 'the dining', 'the dirt', 'the distance', 'the distant', 'the doctor', 'the door', 'the doorway', 'the dormouse', 'the dreambody', 'the driver', 'the driveway', 'the earth', 'the edge', 'the elderly', 'the electric', 'the empty', 'the end', 'the entire', 'the ether', 'the experience', 'the eyes', 'the face', 'the fact', 'the fairy', 'the family', 'the father', 'the feather', 'the female', 'the festival', 'the final', 'the finest', 'the fire', 'the first', 'the flame', 'the flavor', 'the floor', 'the flower', 'the forehead', 'the forest', 'the forge', 'the form', 'the front', 'the future', 'the game', 'the gem', 'the girl', 'the girlfriend', 'the girls', 'the glass', 'the goddess', 'the gods', 'the golden', 'the good', 'the grass', 'the grave', 'the great', 'the greatest', 'the green', 'the greenhouse', 'the grill', 'the ground', 'the half', 'the hall', 'the halls', 'the hallway', 'the hammer', 'the hand', 'the head', 'the heads', 'the heart', 'the heavy', 'the height', 'the hero', 'the hollow', 'the horizon', 'the hospital', 'the hot', 'the hotel', 'the hour', 'the house', 'the hundred', 'the husks', 'the idea', 'the image', 'the images', 'the information', 'the inside', 'the insides', 'the interior', 'the jewel', 'the jungle', 'the killer', 'the kind', 'the kitchen', 'the knife', 'the lagoon', 'the lake', 'the lambs', 'the land', 'the landscape', 'the last', 'the left', 'the legs', 'the letter', 'the light', 'the lights', 'the line', 'the lions', 'the little', 'the live', 'the liver', 'the living', 'the lizard', 'the long', 'the luckiest', 'the lunar', 'the machine', 'the male', 'the man', 'the manner', 'the many', 'the marrow', 'the mask', 'the master', 'the meal', 'the meat', 'the memories', 'the men', 'the metal', 'the middle', 'the midst', 'the million', 'the mirror', 'the moment', 'the money', 'the monomyth', 'the monsoons', 'the monster', 'the moon', 'the moonlight', 'the moral', 'the more', 'the morning', 'the mornings', 'the mortal', 'the most', 'the mother', 'the movement', 'the muscles', 'the name', 'the names', 'the natural', 'the nearest', 'the necessity', 'the neighbour', 'the nereids', 'the new', 'the newly', 'the news', 'the next', 'the night', 'the novel', 'the nurse', 'the nursery', 'the object', 'the ocean', 'the old', 'the older', 'the olive', 'the one', 'the only', 'the orange', 'the organic', 'the other', 'the others', 'the outcome', 'the outside', 'the pacific', 'the pages', 'the palace', 'the pale', 'the paleontologist', 'the parents', 'the part', 'the particular', 'the passion', 'the patio', 'the peaks', 'the pearl', 'the pedestal', 'the perfect', 'the perimeter', 'the person', 'the physical', 'the picture', 'the pieces', 'the pink', 'the place', 'the playground', 'the pool', 'the population', 'the portal', 'the prince', 'the princess', 'the principal', 'the procedure', 'the process', 'the project', 'the queen', 'the radio', 'the rafters', 'the rain', 'the ravanbody', 'the real', 'the red', 'the rest', 'the rhythm', 'the ribbon', 'the rice', 'the right', 'the risk', 'the road', 'the robot', 'the rocks', 'the room', 'the rushes', 'the salesman', 'the same', 'the sand', 'the sapphire', 'the scent', 'the school', 'the sculptor', 'the sea', 'the seals', 'the second', 'the security', 'the seeds', 'the self', 'the sensation', 'the set', 'the shadows', 'the shagfur', 'the shallows', 'the shape', 'the sharp', 'the shelves', 'the shooting', 'the shore', 'the side', 'the signs', 'the silky', 'the sink', 'the size', 'the sky', 'the smallgod', 'the smallgods', 'the smell', 'the smith', 'the snow', 'the soft', 'the soil', 'the son', 'the sort', 'the sound', 'the spell', 'the stairs', 'the steelveldt', 'the steps', 'the stones', 'the store', 'the stories', 'the storm', 'the stormer', 'the story', 'the stove', 'the street', 'the streetlights', 'the streets', 'the students', 'the sudden', 'the summer', 'the sun', 'the surface', 'the surfaces', 'the system', 'the table', 'the tapestry', 'the teen', 'the teenager', 'the teeth', 'the temperature', 'the test', 'the thing', 'the things', 'the third', 'the threshold', 'the throat', 'the time', 'the tip', 'the toes', 'the top', 'the train', 'the trees', 'the truck', 'the trunks', 'the truth', 'the tumbler', 'the turing', 'the two', 'the underworld', 'the update', 'the value', 'the very', 'the vet', 'the village', 'the volcano', 'the wall', 'the walls', 'the water', 'the watering', 'the waves', 'the way', 'the weather', 'the wedding', 'the weight', 'the wet', 'the white', 'the whole', 'the wind', 'the window', 'the windows', 'the wine', 'the wings', 'the wisest', 'the woman', 'the wonder', 'the wonderful', 'the wood', 'the woods', 'the words', 'the world', 'the worst', 'their arms', 'their backs', 'their bodies', 'their child', 'their daughter', 'their days', 'their eyes', 'their faces', 'their father', 'their great', 'their green', 'their hands', 'their lives', 'their mother', 'their mouths', 'their names', 'their own', 'their parent', 'their patterns', 'their tails', 'their way', 'their young', 'them all', 'them and', 'them apart', 'them as', 'them at', 'them back', 'them both', 'them but', 'them could', 'them down', 'them for', 'them had', 'them have', 'them in', 'them into', 'them she', 'them so', 'them the', 'them to', 'them too', 'them up', 'them while', 'them with', 'themselves to', 'then and', 'then another', 'then but', 'then came', 'then he', 'then her', 'then his', 'then it', 'then later', 'then myself', 'then nothing', 'then say', 'then she', 'then they', 'then turned', 'then was', 'then we', 'then you', 'there are', 'there in', 'there is', 'there no', 'there she', 'there someone', 'there they', 'there was', 'there were', 'there will', 'there with', 'these are', 'these stories', 'these things', 'they are', 'they ate', 'they brought', 'they built', 'they can', 'they copied', 'they could', 'they creep', 'they cut', 'they did', 'they didn', 'they do', 'they don', 'they feel', 'they fell', 'they forget', 'they found', 'they gave', 'they give', 'they had', 'they have', 'they just', 'they know', 'they lived', 'they must', 'they re', 'they remember', 'they returned', 'they saw', 'they say', 'they show', 'they showed', 'they take', 'they tell', 'they think', 'they told', 'they used', 'they ve', 'they went', 'they were', 'they will', 'they would', 'thing am', 'thing she', 'thing that', 'thing the', 'thing was', 'thing we', 'thing would', 'thing you', 'things and', 'things but', 'things he', 'things than', 'things that', 'things to', 'things were', 'think about', 'think he', 'think is', 'think it', 'think of', 'think that', 'think they', 'think ve', 'think you', 'thinking of', 'thinks of', 'thirty five', 'this and', 'this for', 'this gift', 'this has', 'this human', 'this is', 'this it', 'this machine', 'this moment', 'this one', 'this page', 'this particular', 'this place', 'this story', 'this to', 'this was', 'this way', 'this year', 'those are', 'those children', 'those days', 'those things', 'those who', 'though he', 'though it', 'though not', 'though she', 'though they', 'thought and', 'thought he', 'thought her', 'thought it', 'thought of', 'thought that', 'thought was', 'thought would', 'thoughtful engines', 'thousand combinations', 'thousand dead', 'three days', 'three moons', 'three times', 'three years', 'threw her', 'threw herself', 'threw in', 'threw the', 'throat is', 'throat like', 'throat of', 'throat to', 'through all', 'through every', 'through her', 'through his', 'through it', 'through me', 'through my', 'through the', 'throw it', 'ticket to', 'tight facing', 'time and', 'time engagement', 'time for', 'time he', 'time in', 'time it', 'time she', 'time the', 'time to', 'time we', 'time with', 'time you', 'times when', 'tiny fingers', 'tip of', 'tipped in', 'to act', 'to adriana', 'to and', 'to another', 'to answer', 'to anticipate', 'to aphrodite', 'to ask', 'to assemble', 'to associate', 'to barely', 'to be', 'to become', 'to believe', 'to bethlehem', 'to boston', 'to bring', 'to build', 'to call', 'to calm', 'to capture', 'to care', 'to carry', 'to catch', 'to ceno', 'to check', 'to choose', 'to come', 'to comfort', 'to conceal', 'to conceive', 'to continue', 'to cook', 'to copy', 'to create', 'to dance', 'to death', 'to decide', 'to develop', 'to die', 'to discover', 'to do', 'to draw', 'to each', 'to eat', 'to end', 'to even', 'to expect', 'to explain', 'to feel', 'to figure', 'to fill', 'to find', 'to fly', 'to follow', 'to forget', 'to form', 'to fuoco', 'to gag', 'to get', 'to give', 'to go', 'to grow', 'to hang', 'to have', 'to hear', 'to help', 'to her', 'to hide', 'to him', 'to his', 'to hold', 'to hunt', 'to illustrate', 'to invent', 'to it', 'to italy', 'to its', 'to keep', 'to kill', 'to know', 'to learn', 'to leave', 'to let', 'to link', 'to live', 'to local', 'to look', 'to love', 'to lucian', 'to make', 'to manipulate', 'to marry', 'to me', 'to meet', 'to mine', 'to mourn', 'to move', 'to my', 'to olive', 'to one', 'to open', 'to our', 'to pass', 'to pick', 'to possess', 'to prevent', 'to protect', 'to provide', 'to pull', 'to put', 'to read', 'to regain', 'to remain', 'to remember', 'to replace', 'to represent', 'to respond', 'to rest', 'to return', 'to reveal', 'to run', 'to say', 'to school', 'to scream', 'to see', 'to set', 'to shiretoko', 'to show', 'to sit', 'to sleep', 'to snare', 'to solve', 'to some', 'to speak', 'to spend', 'to stand', 'to stop', 'to stroke', 'to swim', 'to take', 'to talk', 'to teach', 'to tell', 'to that', 'to the', 'to their', 'to them', 'to think', 'to this', 'to touch', 'to two', 'to understand', 'to update', 'to uplink', 'to us', 'to use', 'to walk', 'to want', 'to watch', 'to what', 'to which', 'to work', 'to write', 'to you', 'to your', 'today 976qbellerophon', 'today elefsis', 'together and', 'together but', 'together by', 'together in', 'together we', 'together with', 'told her', 'told him', 'told it', 'told me', 'told the', 'tone of', 'tonsure and', 'too but', 'too early', 'too exhausted', 'too late', 'too long', 'too many', 'too much', 'too small', 'too young', 'took her', 'took it', 'took me', 'took one', 'took rose', 'top of', 'touch her', 'touch is', 'touch it', 'touch my', 'touch the', 'touches it', 'touches my', 'touches the', 'toward an', 'toward her', 'toward me', 'toward one', 'toward the', 'trained doves', 'treats and', 'trees and', 'tried to', 'tries to', 'trunks of', 'truth that', 'try to', 'trying to', 'tuck it', 'tungsten and', 'turing test', 'turn back', 'turn into', 'turn to', 'turned away', 'turned her', 'turned into', 'turned off', 'turned on', 'turned out', 'turned the', 'turning around', 'turns his', 'turns neva', 'twenty one', 'twenty three', 'twist and', 'two children', 'two hundred', 'two lions', 'two of', 'unable to', 'under her', 'under my', 'under the', 'understand what', 'understood that', 'unrequited love', 'until he', 'until his', 'until it', 'until my', 'until she', 'until the', 'until they', 'uoya agostino', 'uoya agostinos', 'up again', 'up and', 'up at', 'up for', 'up from', 'up her', 'up his', 'up in', 'up into', 'up my', 'up off', 'up out', 'up the', 'up to', 'up with', 'update and', 'uplink to', 'upon her', 'upon it', 'ursula just', 'us and', 'us as', 'us in', 'us on', 'us the', 'use the', 'used it', 'used the', 'used to', 'value of', 've always', 've been', 've done', 've got', 've gotten', 've never', 've seen', 'veined jasper', 'vergulde draeck', 'version of', 'very big', 'very close', 'very important', 'very much', 'very old', 'very serious', 'very simple', 'very well', 'very young', 'voice like', 'voice was', 'wait for', 'waited for', 'waiting for', 'wake up', 'walk and', 'walk back', 'walk through', 'walk up', 'walk with', 'wall and', 'wall of', 'walls and', 'walls of', 'want healer', 'want her', 'want him', 'want it', 'want me', 'want that', 'want to', 'wanted me', 'wanted to', 'wants me', 'wants to', 'warm and', 'warm presence', 'was all', 'was already', 'was always', 'was an', 'was antecedented', 'was as', 'was asking', 'was authority', 'was being', 'was between', 'was born', 'was called', 'was delighted', 'was doing', 'was dormouse', 'was elefsis', 'was eleven', 'was ever', 'was feeling', 'was for', 'was game', 'was going', 'was gone', 'was good', 'was happening', 'was her', 'was hers', 'was his', 'was house', 'was in', 'was inside', 'was just', 'was like', 'was little', 'was lying', 'was more', 'was my', 'was named', 'was never', 'was no', 'was not', 'was nothing', 'was now', 'was old', 'was on', 'was only', 'was out', 'was over', 'was possible', 'was probably', 'was saying', 'was slowly', 'was so', 'was something', 'was still', 'was surprised', 'was that', 'was the', 'was their', 'was then', 'was there', 'was this', 'was to', 'was very', 'was watching', 'was wet', 'was what', 'was why', 'was with', 'was younger', 'washes her', 'wasn good', 'wasn really', 'wasn sure', 'watch the', 'watched as', 'watched over', 'watched the', 'watched them', 'watching but', 'watching from', 'watching the', 'water and', 'water of', 'watering hole', 'way across', 'way down', 'way for', 'way he', 'way home', 'way of', 'way she', 'way that', 'way to', 'way we', 'we all', 'we answer', 'we are', 'we ask', 'we both', 'we came', 'we can', 'we cannot', 'we could', 'we did', 'we do', 'we don', 'we go', 'we got', 'we had', 'we have', 'we just', 'we learned', 'we ll', 'we make', 'we never', 'we ran', 'we re', 'we seek', 'we should', 'we sit', 'we thought', 'we ve', 'we walk', 'we were', 'we will', 'we won', 'we would', 'weeping but', 'weight and', 'weight of', 'well as', 'well he', 'well she', 'well that', 'went away', 'went back', 'went into', 'went looking', 'went through', 'went to', 'were children', 'were dinosaur', 'were half', 'were in', 'were little', 'were not', 'were only', 'were the', 'wet sand', 'what am', 'what are', 'what did', 'what do', 'what going', 'what had', 'what happened', 'what have', 'what he', 'what her', 'what if', 'what is', 'what it', 'what keep', 'what mean', 'what salma', 'what she', 'what the', 'what their', 'what they', 'what this', 'what to', 'what want', 'what was', 'what we', 'what will', 'what would', 'what you', 'wheat head', 'wheat heads', 'when adriana', 'when am', 'when ceno', 'when first', 'when got', 'when had', 'when he', 'when her', 'when his', 'when it', 'when look', 'when lucian', 'when my', 'when one', 'when reach', 'when rose', 'when seki', 'when she', 'when the', 'when there', 'when they', 'when was', 'when we', 'when you', 'where anything', 'where have', 'where he', 'where her', 'where ravan', 'where she', 'where the', 'where they', 'where we', 'where you', 'whether he', 'whether it', 'whether she', 'which are', 'which class', 'which had', 'which has', 'which he', 'which is', 'which responses', 'which she', 'which they', 'which to', 'which was', 'which we', 'which will', 'while he', 'while in', 'while lucian', 'while she', 'while the', 'while they', 'whipping cream', 'whisper to', 'whispered to', 'white and', 'white as', 'white water', 'who came', 'who carried', 'who could', 'who did', 'who does', 'who drank', 'who had', 'who has', 'who he', 'who hid', 'who is', 'who looked', 'who took', 'who was', 'who watched', 'who will', 'who would', 'whole life', 'whom she', 'whose name', 'why did', 'why do', 'why was', 'why you', 'wield the', 'wife and', 'wild and', 'wild as', 'will be', 'will come', 'will do', 'will finally', 'will force', 'will know', 'will lose', 'will make', 'will never', 'will not', 'will show', 'will stand', 'will you', 'wind blows', 'wind picks', 'window and', 'window to', 'windows and', 'wine and', 'wine glass', 'wine in', 'wings of', 'wisest one', 'wish to', 'wished to', 'wishes to', 'with adriana', 'with an', 'with blood', 'with bone', 'with ceno', 'with child', 'with children', 'with cold', 'with every', 'with ghostly', 'with great', 'with her', 'with him', 'with his', 'with hot', 'with human', 'with iron', 'with it', 'with its', 'with life', 'with long', 'with love', 'with lucian', 'with many', 'with me', 'with my', 'with new', 'with one', 'with orange', 'with our', 'with pair', 'with pale', 'with pleasure', 'with robot', 'with rose', 'with sad', 'with simple', 'with single', 'with sludge', 'with something', 'with tears', 'with that', 'with the', 'with their', 'with them', 'with this', 'with us', 'with weird', 'with which', 'with you', 'with your', 'withdraw to', 'within me', 'within the', 'without him', 'without me', 'without them', 'without thought', 'wolf cubs', 'woman and', 'woman knight', 'woman who', 'women and', 'won be', 'wonder of', 'wondered whether', 'wonderful house', 'wood and', 'words and', 'wore her', 'work and', 'work that', 'work with', 'working on', 'world and', 'world but', 'world is', 'world of', 'world to', 'world with', 'worry about', 'would be', 'would become', 'would breathe', 'would come', 'would do', 'would find', 'would go', 'would happen', 'would have', 'would he', 'would it', 'would like', 'would never', 'would not', 'would pretend', 'would run', 'would say', 'would take', 'would turn', 'would you', 'wounded hand', 'wrapped her', 'wrapped in', 'wrists with', 'writing desk', 'year old', 'years ago', 'years is', 'years later', 'years old', 'yet also', 'yet it', 'yet seki', 'yet understand', 'you about', 'you all', 'you and', 'you are', 'you aren', 'you ask', 'you be', 'you can', 'you cannot', 'you could', 'you couldn', 'you cry', 'you do', 'you don', 'you ever', 'you get', 'you going', 'you had', 'you have', 'you he', 'you how', 'you if', 'you in', 'you it', 'you know', 'you leave', 'you like', 'you ll', 'you look', 'you loved', 'you lullabies', 'you mate', 'you might', 'you must', 'you need', 'you neva', 'you never', 'you on', 'you or', 'you re', 'you remember', 'you said', 'you see', 'you she', 'you should', 'you so', 'you spoke', 'you that', 'you the', 'you there', 'you think', 'you to', 'you too', 'you ve', 'you want', 'you wanted', 'you were', 'you will', 'you wish', 'you won', 'you would', 'young and', 'young but', 'young woman', 'your arms', 'your body', 'your father', 'your mother', 'your own', 'your parents', 'your teeth', 'your time', 'yourself elefsis', 'yttrium bounds', 'yttrium crosses', 'yttrium experiences', 'yttrium has']"
     ]
    },
    {
     "name": "stdout",
     "output_type": "stream",
     "text": [
      "\n"
     ]
    }
   ],
   "source": [
    "print(vectorizer.get_feature_names())"
   ]
  },
  {
   "cell_type": "markdown",
   "metadata": {},
   "source": [
    "### Validation\n",
    "* Splits model into five parts, fitting the model to four-fifths of the data and testing it on the remaining one-fifth each time\n",
    "* Evaluates model for over-fitting to noise in the input data"
   ]
  },
  {
   "cell_type": "code",
   "execution_count": 122,
   "metadata": {},
   "outputs": [
    {
     "name": "stdout",
     "output_type": "stream",
     "text": [
      "[LibLinear][LibLinear][LibLinear][LibLinear][LibLinear][LibLinear][LibLinear][LibLinear][LibLinear][LibLinear]Validated in 3.22 seconds\n"
     ]
    }
   ],
   "source": [
    "t0 = time()\n",
    "\n",
    "from sklearn.model_selection import cross_val_score, cross_val_predict\n",
    "from sklearn.metrics import confusion_matrix\n",
    "\n",
    "train_score = model.score(X_train, y_train)\n",
    "\n",
    "y_train_pred = model.predict(X_train)\n",
    "\n",
    "cv_score = cross_val_score(model, X_train, y_train, cv=5)\n",
    "\n",
    "y_train_cv_pred = cross_val_predict(model, X_train, y_train, cv=5)\n",
    "\n",
    "cm = confusion_matrix(y_train, y_train_pred)\n",
    "cv_cm = confusion_matrix(y_train, y_train_cv_pred)\n",
    "\n",
    "print('Validated in {:.2f} seconds'.format(time() - t0))"
   ]
  },
  {
   "cell_type": "code",
   "execution_count": 123,
   "metadata": {},
   "outputs": [
    {
     "name": "stdout",
     "output_type": "stream",
     "text": [
      "Training set score: 83.8%\n",
      "\n",
      "Cross validation scores: 62.4% ± 4.3%\n",
      "Training Confusion Matrix\n"
     ]
    },
    {
     "data": {
      "text/html": [
       "<div>\n",
       "<style scoped>\n",
       "    .dataframe tbody tr th:only-of-type {\n",
       "        vertical-align: middle;\n",
       "    }\n",
       "\n",
       "    .dataframe tbody tr th {\n",
       "        vertical-align: top;\n",
       "    }\n",
       "\n",
       "    .dataframe thead th {\n",
       "        text-align: right;\n",
       "    }\n",
       "</style>\n",
       "<table border=\"1\" class=\"dataframe\">\n",
       "  <thead>\n",
       "    <tr style=\"text-align: right;\">\n",
       "      <th>Predicted Author</th>\n",
       "      <th>Machado</th>\n",
       "      <th>Swirsky</th>\n",
       "      <th>Valente</th>\n",
       "    </tr>\n",
       "    <tr>\n",
       "      <th>Actual Author</th>\n",
       "      <th></th>\n",
       "      <th></th>\n",
       "      <th></th>\n",
       "    </tr>\n",
       "  </thead>\n",
       "  <tbody>\n",
       "    <tr>\n",
       "      <th>Machado</th>\n",
       "      <td>835</td>\n",
       "      <td>323</td>\n",
       "      <td>52</td>\n",
       "    </tr>\n",
       "    <tr>\n",
       "      <th>Swirsky</th>\n",
       "      <td>39</td>\n",
       "      <td>1826</td>\n",
       "      <td>73</td>\n",
       "    </tr>\n",
       "    <tr>\n",
       "      <th>Valente</th>\n",
       "      <td>39</td>\n",
       "      <td>322</td>\n",
       "      <td>1730</td>\n",
       "    </tr>\n",
       "  </tbody>\n",
       "</table>\n",
       "</div>"
      ],
      "text/plain": [
       "Predicted Author  Machado  Swirsky  Valente\n",
       "Actual Author                              \n",
       "Machado               835      323       52\n",
       "Swirsky                39     1826       73\n",
       "Valente                39      322     1730"
      ]
     },
     "metadata": {},
     "output_type": "display_data"
    },
    {
     "name": "stdout",
     "output_type": "stream",
     "text": [
      "Cross Validation Confusion Matrix\n"
     ]
    },
    {
     "data": {
      "text/html": [
       "<div>\n",
       "<style scoped>\n",
       "    .dataframe tbody tr th:only-of-type {\n",
       "        vertical-align: middle;\n",
       "    }\n",
       "\n",
       "    .dataframe tbody tr th {\n",
       "        vertical-align: top;\n",
       "    }\n",
       "\n",
       "    .dataframe thead th {\n",
       "        text-align: right;\n",
       "    }\n",
       "</style>\n",
       "<table border=\"1\" class=\"dataframe\">\n",
       "  <thead>\n",
       "    <tr style=\"text-align: right;\">\n",
       "      <th>Predicted Author</th>\n",
       "      <th>Machado</th>\n",
       "      <th>Swirsky</th>\n",
       "      <th>Valente</th>\n",
       "    </tr>\n",
       "    <tr>\n",
       "      <th>Actual Author</th>\n",
       "      <th></th>\n",
       "      <th></th>\n",
       "      <th></th>\n",
       "    </tr>\n",
       "  </thead>\n",
       "  <tbody>\n",
       "    <tr>\n",
       "      <th>Machado</th>\n",
       "      <td>477</td>\n",
       "      <td>508</td>\n",
       "      <td>225</td>\n",
       "    </tr>\n",
       "    <tr>\n",
       "      <th>Swirsky</th>\n",
       "      <td>162</td>\n",
       "      <td>1460</td>\n",
       "      <td>316</td>\n",
       "    </tr>\n",
       "    <tr>\n",
       "      <th>Valente</th>\n",
       "      <td>146</td>\n",
       "      <td>613</td>\n",
       "      <td>1332</td>\n",
       "    </tr>\n",
       "  </tbody>\n",
       "</table>\n",
       "</div>"
      ],
      "text/plain": [
       "Predicted Author  Machado  Swirsky  Valente\n",
       "Actual Author                              \n",
       "Machado               477      508      225\n",
       "Swirsky               162     1460      316\n",
       "Valente               146      613     1332"
      ]
     },
     "metadata": {},
     "output_type": "display_data"
    }
   ],
   "source": [
    "plusminus = u\"\\u00B1\"\n",
    "\n",
    "print('Training set score: {:.1%}'.format(train_score))\n",
    "print('\\nCross validation scores: {:.1%} {} {:.1%}'.format(cv_score.mean(), plusminus, cv_score.std()*2))\n",
    "\n",
    "df_cm = pd.DataFrame(cm, index=model.classes_, columns=model.classes_)\n",
    "df_cm.index.name = 'Actual Author'\n",
    "df_cm.columns.name = 'Predicted Author'\n",
    "\n",
    "df_cv_cm = pd.DataFrame(cv_cm, index=model.classes_, columns=model.classes_)\n",
    "df_cv_cm.index.name = 'Actual Author'\n",
    "df_cv_cm.columns.name = 'Predicted Author'\n",
    "\n",
    "print('Training Confusion Matrix')\n",
    "display(df_cm)\n",
    "\n",
    "print('Cross Validation Confusion Matrix')\n",
    "display(df_cv_cm)"
   ]
  },
  {
   "cell_type": "markdown",
   "metadata": {},
   "source": [
    "## Prediction\n",
    "### Test sentences\n",
    "Finally uses the vectorized sentences from the test set."
   ]
  },
  {
   "cell_type": "code",
   "execution_count": null,
   "metadata": {},
   "outputs": [],
   "source": [
    "t0 = time()\n",
    "test_score = model.score(X_test, y_test)\n",
    "y_test_pred = model.predict(X_test)\n",
    "test_cm = confusion_matrix(y_test, y_test_pred)\n",
    "print('Predicted in {:.2f} seconds'.format(time() - t0))"
   ]
  },
  {
   "cell_type": "code",
   "execution_count": null,
   "metadata": {},
   "outputs": [],
   "source": [
    "print('Test set score: {:.1%}'.format(test_score))\n",
    "\n",
    "df_test_cm = pd.DataFrame(test_cm, index=model.classes_, columns=model.classes_)\n",
    "df_test_cm.index.name = 'Actual Author'\n",
    "df_test_cm.columns.name = 'Predicted Author'\n",
    "display(df_test_cm)"
   ]
  },
  {
   "cell_type": "code",
   "execution_count": null,
   "metadata": {},
   "outputs": [],
   "source": [
    "print('Total time: {:.2f} seconds'.format(time() - start_time))"
   ]
  },
  {
   "cell_type": "code",
   "execution_count": null,
   "metadata": {},
   "outputs": [],
   "source": [
    "# from sklearn.ensemble import RandomForestClassifier\n",
    "\n",
    "# model = RandomForestClassifier(\n",
    "#     max_depth=10,\n",
    "#     min_samples_split=50,\n",
    "#     n_estimators=1000,\n",
    "#     verbose=1, \n",
    "#     n_jobs=-1)\n",
    "\n",
    "# model.fit(X_train, y_train)\n",
    "\n",
    "# feature_names = X_train.columns\n",
    "\n",
    "# forest_importances = pd.DataFrame(model.feature_importances_, feature_names, columns=[\"Importances\"])\n",
    "\n",
    "# display(forest_importances.sort_values('Importances', ascending=False).head(20))\n",
    "\n",
    "# print('{:.2f} seconds'.format(time() - start_time))"
   ]
  }
 ],
 "metadata": {
  "kernelspec": {
   "display_name": "Python 3",
   "language": "python",
   "name": "python3"
  },
  "language_info": {
   "codemirror_mode": {
    "name": "ipython",
    "version": 3
   },
   "file_extension": ".py",
   "mimetype": "text/x-python",
   "name": "python",
   "nbconvert_exporter": "python",
   "pygments_lexer": "ipython3",
   "version": "3.6.3"
  },
  "toc": {
   "base_numbering": 1,
   "nav_menu": {},
   "number_sections": true,
   "sideBar": true,
   "skip_h1_title": true,
   "title_cell": "Table of Contents",
   "title_sidebar": "Contents",
   "toc_cell": false,
   "toc_position": {
    "height": "calc(100% - 180px)",
    "left": "10px",
    "top": "150px",
    "width": "264px"
   },
   "toc_section_display": true,
   "toc_window_display": true
  },
  "varInspector": {
   "cols": {
    "lenName": 16,
    "lenType": 16,
    "lenVar": 40
   },
   "kernels_config": {
    "python": {
     "delete_cmd_postfix": "",
     "delete_cmd_prefix": "del ",
     "library": "var_list.py",
     "varRefreshCmd": "print(var_dic_list())"
    },
    "r": {
     "delete_cmd_postfix": ") ",
     "delete_cmd_prefix": "rm(",
     "library": "var_list.r",
     "varRefreshCmd": "cat(var_dic_list()) "
    }
   },
   "types_to_exclude": [
    "module",
    "function",
    "builtin_function_or_method",
    "instance",
    "_Feature"
   ],
   "window_display": false
  }
 },
 "nbformat": 4,
 "nbformat_minor": 2
}
